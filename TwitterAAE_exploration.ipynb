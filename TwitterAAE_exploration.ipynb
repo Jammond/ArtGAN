{
  "nbformat": 4,
  "nbformat_minor": 0,
  "metadata": {
    "colab": {
      "name": "TwitterAAE_exploration.ipynb",
      "provenance": [],
      "authorship_tag": "ABX9TyMQ26sS417+ooQDebMWVp8R",
      "include_colab_link": true
    },
    "kernelspec": {
      "name": "python3",
      "display_name": "Python 3"
    },
    "language_info": {
      "name": "python"
    }
  },
  "cells": [
    {
      "cell_type": "markdown",
      "metadata": {
        "id": "view-in-github",
        "colab_type": "text"
      },
      "source": [
        "<a href=\"https://colab.research.google.com/github/Jammond/ArtGAN/blob/master/TwitterAAE_exploration.ipynb\" target=\"_parent\"><img src=\"https://colab.research.google.com/assets/colab-badge.svg\" alt=\"Open In Colab\"/></a>"
      ]
    },
    {
      "cell_type": "code",
      "metadata": {
        "colab": {
          "base_uri": "https://localhost:8080/"
        },
        "id": "KeRmtYaXlcnA",
        "outputId": "4f7af0f6-4ac7-4c59-b6e8-63c70ce8ed36"
      },
      "source": [
        "from google.colab import drive\n",
        "drive.mount('/content/drive')"
      ],
      "execution_count": 1,
      "outputs": [
        {
          "output_type": "stream",
          "name": "stdout",
          "text": [
            "Mounted at /content/drive\n"
          ]
        }
      ]
    },
    {
      "cell_type": "code",
      "metadata": {
        "id": "j--f-RcElfsL"
      },
      "source": [
        "import json\n",
        "import pandas as pd\n",
        "import re"
      ],
      "execution_count": 48,
      "outputs": []
    },
    {
      "cell_type": "code",
      "metadata": {
        "id": "KJWIHfwPlxy3"
      },
      "source": [
        "data = open('/content/drive/MyDrive/Github/octo-rapper/twitteraae_all_aa').read()\n",
        "\n",
        "# df = pd.read_csv('/content/drive/MyDrive/Github/octo-rapper/twitteraae_all_aa', sep='\\t')"
      ],
      "execution_count": 10,
      "outputs": []
    },
    {
      "cell_type": "code",
      "metadata": {
        "colab": {
          "base_uri": "https://localhost:8080/",
          "height": 72
        },
        "id": "Tll4h2udl-8u",
        "outputId": "b609e631-7da9-43e5-85c5-2bab8037562d"
      },
      "source": [
        "data[:500]"
      ],
      "execution_count": 7,
      "outputs": [
        {
          "output_type": "execute_result",
          "data": {
            "application/vnd.google.colaboratory.intrinsic+json": {
              "type": "string"
            },
            "text/plain": [
              "'293846693215096832\\t\"Tue Jan 22 22:24:45 +0000 2013\"\\t\"1028920752\"\\t[-80.01040975, 32.80108357]\\t\"450190027021\"\\t\"Click Clack Motha Fucka I ain\\'t tryin to hear Nothin!\"\\t0.894545454545\\t0.0163636363636\\t0.0\\t0.0890909090909\\n288532237186646016\\t\"Tue Jan 08 06:27:00 +0000 2013\"\\t\"1040150983\"\\t[-87.322161, 41.6006888]\\t\"180890106001\"\\t\"Man imissed a called from my bae hella mad -_- @callme_KRAZII\"\\t0.942\\t0.058\\t0.0\\t0.0\\n289899995472224257\\t\"Sat Jan 12 01:01:59 +0000 2013\"\\t\"1068611971\"\\t[-78.85113963, 42.909513]\\t\"3602'"
            ]
          },
          "metadata": {},
          "execution_count": 7
        }
      ]
    },
    {
      "cell_type": "code",
      "metadata": {
        "id": "GdCS2K7azDz9"
      },
      "source": [
        "data_split = [line for line in data.split('\\n')]\n"
      ],
      "execution_count": 13,
      "outputs": []
    },
    {
      "cell_type": "code",
      "metadata": {
        "colab": {
          "base_uri": "https://localhost:8080/"
        },
        "id": "ive8pwI0zNdZ",
        "outputId": "7f5e94a0-42f8-46f4-f5b0-b9407e270ca5"
      },
      "source": [
        "data_split[:5]"
      ],
      "execution_count": 15,
      "outputs": [
        {
          "output_type": "execute_result",
          "data": {
            "text/plain": [
              "['293846693215096832\\t\"Tue Jan 22 22:24:45 +0000 2013\"\\t\"1028920752\"\\t[-80.01040975, 32.80108357]\\t\"450190027021\"\\t\"Click Clack Motha Fucka I ain\\'t tryin to hear Nothin!\"\\t0.894545454545\\t0.0163636363636\\t0.0\\t0.0890909090909',\n",
              " '288532237186646016\\t\"Tue Jan 08 06:27:00 +0000 2013\"\\t\"1040150983\"\\t[-87.322161, 41.6006888]\\t\"180890106001\"\\t\"Man imissed a called from my bae hella mad -_- @callme_KRAZII\"\\t0.942\\t0.058\\t0.0\\t0.0',\n",
              " '289899995472224257\\t\"Sat Jan 12 01:01:59 +0000 2013\"\\t\"1068611971\"\\t[-78.85113963, 42.909513]\\t\"360290033021\"\\t\"@devontekthomas OMG I keep sayin boo wen I mean boy\"\\t0.951111111111\\t0.0311111111111\\t0.0\\t0.0177777777778',\n",
              " '289901379869351936\\t\"Sat Jan 12 01:07:29 +0000 2013\"\\t\"1068611971\"\\t[-78.8510475, 42.90955088]\\t\"360290033021\"\\t\"@devontekthomas I did not mean to say dat\"\\t0.957142857143\\t0.0342857142857\\t0.0\\t0.00857142857143',\n",
              " '289902453367910401\\t\"Sat Jan 12 01:11:45 +0000 2013\"\\t\"1068611971\"\\t[-78.85107559, 42.90955579]\\t\"360290033021\"\\t\"@devontekthomas awww u do too\"\\t0.975\\t0.01\\t0.0\\t0.015']"
            ]
          },
          "metadata": {},
          "execution_count": 15
        }
      ]
    },
    {
      "cell_type": "code",
      "metadata": {
        "id": "IGACEFfrmBBS"
      },
      "source": [
        "df = pd.DataFrame([x.split('\\t') for x in data_split])"
      ],
      "execution_count": 26,
      "outputs": []
    },
    {
      "cell_type": "code",
      "metadata": {
        "colab": {
          "base_uri": "https://localhost:8080/",
          "height": 205
        },
        "id": "_Z7iOVlr4N0-",
        "outputId": "89ec6c7c-bb13-441b-ee4c-1df11e37bf5d"
      },
      "source": [
        "df.head()"
      ],
      "execution_count": 19,
      "outputs": [
        {
          "output_type": "execute_result",
          "data": {
            "text/html": [
              "<div>\n",
              "<style scoped>\n",
              "    .dataframe tbody tr th:only-of-type {\n",
              "        vertical-align: middle;\n",
              "    }\n",
              "\n",
              "    .dataframe tbody tr th {\n",
              "        vertical-align: top;\n",
              "    }\n",
              "\n",
              "    .dataframe thead th {\n",
              "        text-align: right;\n",
              "    }\n",
              "</style>\n",
              "<table border=\"1\" class=\"dataframe\">\n",
              "  <thead>\n",
              "    <tr style=\"text-align: right;\">\n",
              "      <th></th>\n",
              "      <th>0</th>\n",
              "      <th>1</th>\n",
              "      <th>2</th>\n",
              "      <th>3</th>\n",
              "      <th>4</th>\n",
              "      <th>5</th>\n",
              "      <th>6</th>\n",
              "      <th>7</th>\n",
              "      <th>8</th>\n",
              "      <th>9</th>\n",
              "    </tr>\n",
              "  </thead>\n",
              "  <tbody>\n",
              "    <tr>\n",
              "      <th>0</th>\n",
              "      <td>293846693215096832</td>\n",
              "      <td>\"Tue Jan 22 22:24:45 +0000 2013\"</td>\n",
              "      <td>\"1028920752\"</td>\n",
              "      <td>[-80.01040975, 32.80108357]</td>\n",
              "      <td>\"450190027021\"</td>\n",
              "      <td>\"Click Clack Motha Fucka I ain't tryin to hear...</td>\n",
              "      <td>0.894545454545</td>\n",
              "      <td>0.0163636363636</td>\n",
              "      <td>0.0</td>\n",
              "      <td>0.0890909090909</td>\n",
              "    </tr>\n",
              "    <tr>\n",
              "      <th>1</th>\n",
              "      <td>288532237186646016</td>\n",
              "      <td>\"Tue Jan 08 06:27:00 +0000 2013\"</td>\n",
              "      <td>\"1040150983\"</td>\n",
              "      <td>[-87.322161, 41.6006888]</td>\n",
              "      <td>\"180890106001\"</td>\n",
              "      <td>\"Man imissed a called from my bae hella mad -_...</td>\n",
              "      <td>0.942</td>\n",
              "      <td>0.058</td>\n",
              "      <td>0.0</td>\n",
              "      <td>0.0</td>\n",
              "    </tr>\n",
              "    <tr>\n",
              "      <th>2</th>\n",
              "      <td>289899995472224257</td>\n",
              "      <td>\"Sat Jan 12 01:01:59 +0000 2013\"</td>\n",
              "      <td>\"1068611971\"</td>\n",
              "      <td>[-78.85113963, 42.909513]</td>\n",
              "      <td>\"360290033021\"</td>\n",
              "      <td>\"@devontekthomas OMG I keep sayin boo wen I me...</td>\n",
              "      <td>0.951111111111</td>\n",
              "      <td>0.0311111111111</td>\n",
              "      <td>0.0</td>\n",
              "      <td>0.0177777777778</td>\n",
              "    </tr>\n",
              "    <tr>\n",
              "      <th>3</th>\n",
              "      <td>289901379869351936</td>\n",
              "      <td>\"Sat Jan 12 01:07:29 +0000 2013\"</td>\n",
              "      <td>\"1068611971\"</td>\n",
              "      <td>[-78.8510475, 42.90955088]</td>\n",
              "      <td>\"360290033021\"</td>\n",
              "      <td>\"@devontekthomas I did not mean to say dat\"</td>\n",
              "      <td>0.957142857143</td>\n",
              "      <td>0.0342857142857</td>\n",
              "      <td>0.0</td>\n",
              "      <td>0.00857142857143</td>\n",
              "    </tr>\n",
              "    <tr>\n",
              "      <th>4</th>\n",
              "      <td>289902453367910401</td>\n",
              "      <td>\"Sat Jan 12 01:11:45 +0000 2013\"</td>\n",
              "      <td>\"1068611971\"</td>\n",
              "      <td>[-78.85107559, 42.90955579]</td>\n",
              "      <td>\"360290033021\"</td>\n",
              "      <td>\"@devontekthomas awww u do too\"</td>\n",
              "      <td>0.975</td>\n",
              "      <td>0.01</td>\n",
              "      <td>0.0</td>\n",
              "      <td>0.015</td>\n",
              "    </tr>\n",
              "  </tbody>\n",
              "</table>\n",
              "</div>"
            ],
            "text/plain": [
              "                    0                                 1  ...    8                 9\n",
              "0  293846693215096832  \"Tue Jan 22 22:24:45 +0000 2013\"  ...  0.0   0.0890909090909\n",
              "1  288532237186646016  \"Tue Jan 08 06:27:00 +0000 2013\"  ...  0.0               0.0\n",
              "2  289899995472224257  \"Sat Jan 12 01:01:59 +0000 2013\"  ...  0.0   0.0177777777778\n",
              "3  289901379869351936  \"Sat Jan 12 01:07:29 +0000 2013\"  ...  0.0  0.00857142857143\n",
              "4  289902453367910401  \"Sat Jan 12 01:11:45 +0000 2013\"  ...  0.0             0.015\n",
              "\n",
              "[5 rows x 10 columns]"
            ]
          },
          "metadata": {},
          "execution_count": 19
        }
      ]
    },
    {
      "cell_type": "code",
      "metadata": {
        "id": "9T5D2ve033q5"
      },
      "source": [
        "df = df.rename(columns={0: 'tweet_ids', 1: 'timestamps', 2:'user_ids', 3:'lat_long', 4:'blockgroup', 5:'text', 6:'African-American', 7:'Hispanic', 8:'Asian', 9:'White' })"
      ],
      "execution_count": 29,
      "outputs": []
    },
    {
      "cell_type": "code",
      "metadata": {
        "colab": {
          "base_uri": "https://localhost:8080/",
          "height": 205
        },
        "id": "ZZ88oG7IAL0C",
        "outputId": "c5fe8857-9970-4f5a-9724-bc0500287a96"
      },
      "source": [
        "df.head()"
      ],
      "execution_count": 30,
      "outputs": [
        {
          "output_type": "execute_result",
          "data": {
            "text/html": [
              "<div>\n",
              "<style scoped>\n",
              "    .dataframe tbody tr th:only-of-type {\n",
              "        vertical-align: middle;\n",
              "    }\n",
              "\n",
              "    .dataframe tbody tr th {\n",
              "        vertical-align: top;\n",
              "    }\n",
              "\n",
              "    .dataframe thead th {\n",
              "        text-align: right;\n",
              "    }\n",
              "</style>\n",
              "<table border=\"1\" class=\"dataframe\">\n",
              "  <thead>\n",
              "    <tr style=\"text-align: right;\">\n",
              "      <th></th>\n",
              "      <th>tweet_ids</th>\n",
              "      <th>timestamps</th>\n",
              "      <th>user_ids</th>\n",
              "      <th>lat_long</th>\n",
              "      <th>blockgroup</th>\n",
              "      <th>text</th>\n",
              "      <th>African-American</th>\n",
              "      <th>Hispanic</th>\n",
              "      <th>Asian</th>\n",
              "      <th>White</th>\n",
              "    </tr>\n",
              "  </thead>\n",
              "  <tbody>\n",
              "    <tr>\n",
              "      <th>0</th>\n",
              "      <td>293846693215096832</td>\n",
              "      <td>\"Tue Jan 22 22:24:45 +0000 2013\"</td>\n",
              "      <td>\"1028920752\"</td>\n",
              "      <td>[-80.01040975, 32.80108357]</td>\n",
              "      <td>\"450190027021\"</td>\n",
              "      <td>\"Click Clack Motha Fucka I ain't tryin to hear...</td>\n",
              "      <td>0.894545454545</td>\n",
              "      <td>0.0163636363636</td>\n",
              "      <td>0.0</td>\n",
              "      <td>0.0890909090909</td>\n",
              "    </tr>\n",
              "    <tr>\n",
              "      <th>1</th>\n",
              "      <td>288532237186646016</td>\n",
              "      <td>\"Tue Jan 08 06:27:00 +0000 2013\"</td>\n",
              "      <td>\"1040150983\"</td>\n",
              "      <td>[-87.322161, 41.6006888]</td>\n",
              "      <td>\"180890106001\"</td>\n",
              "      <td>\"Man imissed a called from my bae hella mad -_...</td>\n",
              "      <td>0.942</td>\n",
              "      <td>0.058</td>\n",
              "      <td>0.0</td>\n",
              "      <td>0.0</td>\n",
              "    </tr>\n",
              "    <tr>\n",
              "      <th>2</th>\n",
              "      <td>289899995472224257</td>\n",
              "      <td>\"Sat Jan 12 01:01:59 +0000 2013\"</td>\n",
              "      <td>\"1068611971\"</td>\n",
              "      <td>[-78.85113963, 42.909513]</td>\n",
              "      <td>\"360290033021\"</td>\n",
              "      <td>\"@devontekthomas OMG I keep sayin boo wen I me...</td>\n",
              "      <td>0.951111111111</td>\n",
              "      <td>0.0311111111111</td>\n",
              "      <td>0.0</td>\n",
              "      <td>0.0177777777778</td>\n",
              "    </tr>\n",
              "    <tr>\n",
              "      <th>3</th>\n",
              "      <td>289901379869351936</td>\n",
              "      <td>\"Sat Jan 12 01:07:29 +0000 2013\"</td>\n",
              "      <td>\"1068611971\"</td>\n",
              "      <td>[-78.8510475, 42.90955088]</td>\n",
              "      <td>\"360290033021\"</td>\n",
              "      <td>\"@devontekthomas I did not mean to say dat\"</td>\n",
              "      <td>0.957142857143</td>\n",
              "      <td>0.0342857142857</td>\n",
              "      <td>0.0</td>\n",
              "      <td>0.00857142857143</td>\n",
              "    </tr>\n",
              "    <tr>\n",
              "      <th>4</th>\n",
              "      <td>289902453367910401</td>\n",
              "      <td>\"Sat Jan 12 01:11:45 +0000 2013\"</td>\n",
              "      <td>\"1068611971\"</td>\n",
              "      <td>[-78.85107559, 42.90955579]</td>\n",
              "      <td>\"360290033021\"</td>\n",
              "      <td>\"@devontekthomas awww u do too\"</td>\n",
              "      <td>0.975</td>\n",
              "      <td>0.01</td>\n",
              "      <td>0.0</td>\n",
              "      <td>0.015</td>\n",
              "    </tr>\n",
              "  </tbody>\n",
              "</table>\n",
              "</div>"
            ],
            "text/plain": [
              "            tweet_ids                        timestamps  ... Asian             White\n",
              "0  293846693215096832  \"Tue Jan 22 22:24:45 +0000 2013\"  ...   0.0   0.0890909090909\n",
              "1  288532237186646016  \"Tue Jan 08 06:27:00 +0000 2013\"  ...   0.0               0.0\n",
              "2  289899995472224257  \"Sat Jan 12 01:01:59 +0000 2013\"  ...   0.0   0.0177777777778\n",
              "3  289901379869351936  \"Sat Jan 12 01:07:29 +0000 2013\"  ...   0.0  0.00857142857143\n",
              "4  289902453367910401  \"Sat Jan 12 01:11:45 +0000 2013\"  ...   0.0             0.015\n",
              "\n",
              "[5 rows x 10 columns]"
            ]
          },
          "metadata": {},
          "execution_count": 30
        }
      ]
    },
    {
      "cell_type": "code",
      "metadata": {
        "colab": {
          "base_uri": "https://localhost:8080/"
        },
        "id": "aZDyS9L7AGjx",
        "outputId": "a071cba3-b714-4952-9ec0-2def8fe5a611"
      },
      "source": [
        "df.info()"
      ],
      "execution_count": 31,
      "outputs": [
        {
          "output_type": "stream",
          "name": "stdout",
          "text": [
            "<class 'pandas.core.frame.DataFrame'>\n",
            "RangeIndex: 1149900 entries, 0 to 1149899\n",
            "Data columns (total 10 columns):\n",
            " #   Column            Non-Null Count    Dtype \n",
            "---  ------            --------------    ----- \n",
            " 0   tweet_ids         1149900 non-null  object\n",
            " 1   timestamps        1149899 non-null  object\n",
            " 2   user_ids          1149899 non-null  object\n",
            " 3   lat_long          1149899 non-null  object\n",
            " 4   blockgroup        1149899 non-null  object\n",
            " 5   text              1149899 non-null  object\n",
            " 6   African-American  1149899 non-null  object\n",
            " 7   Hispanic          1149899 non-null  object\n",
            " 8   Asian             1149899 non-null  object\n",
            " 9   White             1149899 non-null  object\n",
            "dtypes: object(10)\n",
            "memory usage: 87.7+ MB\n"
          ]
        }
      ]
    },
    {
      "cell_type": "code",
      "metadata": {
        "id": "-_Arq8KMAsr6"
      },
      "source": [
        "trim_col = df[['text', 'African-American']]"
      ],
      "execution_count": 32,
      "outputs": []
    },
    {
      "cell_type": "code",
      "metadata": {
        "colab": {
          "base_uri": "https://localhost:8080/",
          "height": 205
        },
        "id": "r-Uos9IcBYf4",
        "outputId": "d2ef67ea-3154-4fd1-d8e9-4e0d590b2185"
      },
      "source": [
        "trim_col.head()"
      ],
      "execution_count": 33,
      "outputs": [
        {
          "output_type": "execute_result",
          "data": {
            "text/html": [
              "<div>\n",
              "<style scoped>\n",
              "    .dataframe tbody tr th:only-of-type {\n",
              "        vertical-align: middle;\n",
              "    }\n",
              "\n",
              "    .dataframe tbody tr th {\n",
              "        vertical-align: top;\n",
              "    }\n",
              "\n",
              "    .dataframe thead th {\n",
              "        text-align: right;\n",
              "    }\n",
              "</style>\n",
              "<table border=\"1\" class=\"dataframe\">\n",
              "  <thead>\n",
              "    <tr style=\"text-align: right;\">\n",
              "      <th></th>\n",
              "      <th>text</th>\n",
              "      <th>African-American</th>\n",
              "    </tr>\n",
              "  </thead>\n",
              "  <tbody>\n",
              "    <tr>\n",
              "      <th>0</th>\n",
              "      <td>\"Click Clack Motha Fucka I ain't tryin to hear...</td>\n",
              "      <td>0.894545454545</td>\n",
              "    </tr>\n",
              "    <tr>\n",
              "      <th>1</th>\n",
              "      <td>\"Man imissed a called from my bae hella mad -_...</td>\n",
              "      <td>0.942</td>\n",
              "    </tr>\n",
              "    <tr>\n",
              "      <th>2</th>\n",
              "      <td>\"@devontekthomas OMG I keep sayin boo wen I me...</td>\n",
              "      <td>0.951111111111</td>\n",
              "    </tr>\n",
              "    <tr>\n",
              "      <th>3</th>\n",
              "      <td>\"@devontekthomas I did not mean to say dat\"</td>\n",
              "      <td>0.957142857143</td>\n",
              "    </tr>\n",
              "    <tr>\n",
              "      <th>4</th>\n",
              "      <td>\"@devontekthomas awww u do too\"</td>\n",
              "      <td>0.975</td>\n",
              "    </tr>\n",
              "  </tbody>\n",
              "</table>\n",
              "</div>"
            ],
            "text/plain": [
              "                                                text African-American\n",
              "0  \"Click Clack Motha Fucka I ain't tryin to hear...   0.894545454545\n",
              "1  \"Man imissed a called from my bae hella mad -_...            0.942\n",
              "2  \"@devontekthomas OMG I keep sayin boo wen I me...   0.951111111111\n",
              "3        \"@devontekthomas I did not mean to say dat\"   0.957142857143\n",
              "4                    \"@devontekthomas awww u do too\"            0.975"
            ]
          },
          "metadata": {},
          "execution_count": 33
        }
      ]
    },
    {
      "cell_type": "code",
      "metadata": {
        "colab": {
          "base_uri": "https://localhost:8080/"
        },
        "id": "nwX_cf9yCAVz",
        "outputId": "633128b8-2df4-4d3c-9693-6f2831015ff9"
      },
      "source": [
        "trim_col.dropna(inplace=True)"
      ],
      "execution_count": 35,
      "outputs": [
        {
          "output_type": "stream",
          "name": "stderr",
          "text": [
            "/usr/local/lib/python3.7/dist-packages/ipykernel_launcher.py:1: SettingWithCopyWarning: \n",
            "A value is trying to be set on a copy of a slice from a DataFrame\n",
            "\n",
            "See the caveats in the documentation: https://pandas.pydata.org/pandas-docs/stable/user_guide/indexing.html#returning-a-view-versus-a-copy\n",
            "  \"\"\"Entry point for launching an IPython kernel.\n"
          ]
        }
      ]
    },
    {
      "cell_type": "code",
      "metadata": {
        "colab": {
          "base_uri": "https://localhost:8080/"
        },
        "id": "m5HWbj2DBxME",
        "outputId": "fd04dd68-a6db-4b7f-990d-3a5a1bb438c8"
      },
      "source": [
        "trim_col[\"aa\"] = trim_col[\"African-American\"].astype(str).astype(float)\n",
        "\n",
        "\n",
        "# stripped_string = a_string.strip('\"')"
      ],
      "execution_count": 76,
      "outputs": [
        {
          "output_type": "stream",
          "name": "stderr",
          "text": [
            "/usr/local/lib/python3.7/dist-packages/ipykernel_launcher.py:1: SettingWithCopyWarning: \n",
            "A value is trying to be set on a copy of a slice from a DataFrame.\n",
            "Try using .loc[row_indexer,col_indexer] = value instead\n",
            "\n",
            "See the caveats in the documentation: https://pandas.pydata.org/pandas-docs/stable/user_guide/indexing.html#returning-a-view-versus-a-copy\n",
            "  \"\"\"Entry point for launching an IPython kernel.\n",
            "/usr/local/lib/python3.7/dist-packages/ipykernel_launcher.py:2: SettingWithCopyWarning: \n",
            "A value is trying to be set on a copy of a slice from a DataFrame.\n",
            "Try using .loc[row_indexer,col_indexer] = value instead\n",
            "\n",
            "See the caveats in the documentation: https://pandas.pydata.org/pandas-docs/stable/user_guide/indexing.html#returning-a-view-versus-a-copy\n",
            "  \n"
          ]
        }
      ]
    },
    {
      "cell_type": "code",
      "metadata": {
        "colab": {
          "base_uri": "https://localhost:8080/"
        },
        "id": "11w9SK3slday",
        "outputId": "8b49d225-0af0-4f4e-9127-8826789fd8c2"
      },
      "source": [
        "trim_col[\"text\"] = trim_col[\"text\"].astype(str)"
      ],
      "execution_count": 78,
      "outputs": [
        {
          "output_type": "stream",
          "name": "stderr",
          "text": [
            "/usr/local/lib/python3.7/dist-packages/ipykernel_launcher.py:1: SettingWithCopyWarning: \n",
            "A value is trying to be set on a copy of a slice from a DataFrame.\n",
            "Try using .loc[row_indexer,col_indexer] = value instead\n",
            "\n",
            "See the caveats in the documentation: https://pandas.pydata.org/pandas-docs/stable/user_guide/indexing.html#returning-a-view-versus-a-copy\n",
            "  \"\"\"Entry point for launching an IPython kernel.\n"
          ]
        }
      ]
    },
    {
      "cell_type": "code",
      "metadata": {
        "colab": {
          "base_uri": "https://localhost:8080/",
          "height": 298
        },
        "id": "0DWP7GolkAuR",
        "outputId": "88830ce4-ad3b-4d7d-bed1-8f3ed9c302b5"
      },
      "source": [
        "trim_col[\"text\"] = trim_col[\"text\"].strip('\"')"
      ],
      "execution_count": 79,
      "outputs": [
        {
          "output_type": "error",
          "ename": "AttributeError",
          "evalue": "ignored",
          "traceback": [
            "\u001b[0;31m---------------------------------------------------------------------------\u001b[0m",
            "\u001b[0;31mAttributeError\u001b[0m                            Traceback (most recent call last)",
            "\u001b[0;32m<ipython-input-79-44aaa8d03b88>\u001b[0m in \u001b[0;36m<module>\u001b[0;34m()\u001b[0m\n\u001b[0;32m----> 1\u001b[0;31m \u001b[0mtrim_col\u001b[0m\u001b[0;34m[\u001b[0m\u001b[0;34m\"text\"\u001b[0m\u001b[0;34m]\u001b[0m \u001b[0;34m=\u001b[0m \u001b[0mtrim_col\u001b[0m\u001b[0;34m[\u001b[0m\u001b[0;34m\"text\"\u001b[0m\u001b[0;34m]\u001b[0m\u001b[0;34m.\u001b[0m\u001b[0mstrip\u001b[0m\u001b[0;34m(\u001b[0m\u001b[0;34m'\"'\u001b[0m\u001b[0;34m)\u001b[0m\u001b[0;34m\u001b[0m\u001b[0;34m\u001b[0m\u001b[0m\n\u001b[0m",
            "\u001b[0;32m/usr/local/lib/python3.7/dist-packages/pandas/core/generic.py\u001b[0m in \u001b[0;36m__getattr__\u001b[0;34m(self, name)\u001b[0m\n\u001b[1;32m   5139\u001b[0m             \u001b[0;32mif\u001b[0m \u001b[0mself\u001b[0m\u001b[0;34m.\u001b[0m\u001b[0m_info_axis\u001b[0m\u001b[0;34m.\u001b[0m\u001b[0m_can_hold_identifiers_and_holds_name\u001b[0m\u001b[0;34m(\u001b[0m\u001b[0mname\u001b[0m\u001b[0;34m)\u001b[0m\u001b[0;34m:\u001b[0m\u001b[0;34m\u001b[0m\u001b[0;34m\u001b[0m\u001b[0m\n\u001b[1;32m   5140\u001b[0m                 \u001b[0;32mreturn\u001b[0m \u001b[0mself\u001b[0m\u001b[0;34m[\u001b[0m\u001b[0mname\u001b[0m\u001b[0;34m]\u001b[0m\u001b[0;34m\u001b[0m\u001b[0;34m\u001b[0m\u001b[0m\n\u001b[0;32m-> 5141\u001b[0;31m             \u001b[0;32mreturn\u001b[0m \u001b[0mobject\u001b[0m\u001b[0;34m.\u001b[0m\u001b[0m__getattribute__\u001b[0m\u001b[0;34m(\u001b[0m\u001b[0mself\u001b[0m\u001b[0;34m,\u001b[0m \u001b[0mname\u001b[0m\u001b[0;34m)\u001b[0m\u001b[0;34m\u001b[0m\u001b[0;34m\u001b[0m\u001b[0m\n\u001b[0m\u001b[1;32m   5142\u001b[0m \u001b[0;34m\u001b[0m\u001b[0m\n\u001b[1;32m   5143\u001b[0m     \u001b[0;32mdef\u001b[0m \u001b[0m__setattr__\u001b[0m\u001b[0;34m(\u001b[0m\u001b[0mself\u001b[0m\u001b[0;34m,\u001b[0m \u001b[0mname\u001b[0m\u001b[0;34m:\u001b[0m \u001b[0mstr\u001b[0m\u001b[0;34m,\u001b[0m \u001b[0mvalue\u001b[0m\u001b[0;34m)\u001b[0m \u001b[0;34m->\u001b[0m \u001b[0;32mNone\u001b[0m\u001b[0;34m:\u001b[0m\u001b[0;34m\u001b[0m\u001b[0;34m\u001b[0m\u001b[0m\n",
            "\u001b[0;31mAttributeError\u001b[0m: 'Series' object has no attribute 'strip'"
          ]
        }
      ]
    },
    {
      "cell_type": "code",
      "metadata": {
        "colab": {
          "base_uri": "https://localhost:8080/",
          "height": 205
        },
        "id": "pBCe_B3JCI_v",
        "outputId": "203bc431-acbd-45a7-fa5d-a805bc11a9a4"
      },
      "source": [
        "trim_col.head()"
      ],
      "execution_count": 68,
      "outputs": [
        {
          "output_type": "execute_result",
          "data": {
            "text/html": [
              "<div>\n",
              "<style scoped>\n",
              "    .dataframe tbody tr th:only-of-type {\n",
              "        vertical-align: middle;\n",
              "    }\n",
              "\n",
              "    .dataframe tbody tr th {\n",
              "        vertical-align: top;\n",
              "    }\n",
              "\n",
              "    .dataframe thead th {\n",
              "        text-align: right;\n",
              "    }\n",
              "</style>\n",
              "<table border=\"1\" class=\"dataframe\">\n",
              "  <thead>\n",
              "    <tr style=\"text-align: right;\">\n",
              "      <th></th>\n",
              "      <th>text</th>\n",
              "      <th>African-American</th>\n",
              "      <th>aa</th>\n",
              "    </tr>\n",
              "  </thead>\n",
              "  <tbody>\n",
              "    <tr>\n",
              "      <th>0</th>\n",
              "      <td>\"Click Clack Motha Fucka I ain't tryin to hear...</td>\n",
              "      <td>0.894545454545</td>\n",
              "      <td>0.894545</td>\n",
              "    </tr>\n",
              "    <tr>\n",
              "      <th>1</th>\n",
              "      <td>\"Man imissed a called from my bae hella mad -_...</td>\n",
              "      <td>0.942</td>\n",
              "      <td>0.942000</td>\n",
              "    </tr>\n",
              "    <tr>\n",
              "      <th>2</th>\n",
              "      <td>\"@devontekthomas OMG I keep sayin boo wen I me...</td>\n",
              "      <td>0.951111111111</td>\n",
              "      <td>0.951111</td>\n",
              "    </tr>\n",
              "    <tr>\n",
              "      <th>3</th>\n",
              "      <td>\"@devontekthomas I did not mean to say dat\"</td>\n",
              "      <td>0.957142857143</td>\n",
              "      <td>0.957143</td>\n",
              "    </tr>\n",
              "    <tr>\n",
              "      <th>4</th>\n",
              "      <td>\"@devontekthomas awww u do too\"</td>\n",
              "      <td>0.975</td>\n",
              "      <td>0.975000</td>\n",
              "    </tr>\n",
              "  </tbody>\n",
              "</table>\n",
              "</div>"
            ],
            "text/plain": [
              "                                                text African-American        aa\n",
              "0  \"Click Clack Motha Fucka I ain't tryin to hear...   0.894545454545  0.894545\n",
              "1  \"Man imissed a called from my bae hella mad -_...            0.942  0.942000\n",
              "2  \"@devontekthomas OMG I keep sayin boo wen I me...   0.951111111111  0.951111\n",
              "3        \"@devontekthomas I did not mean to say dat\"   0.957142857143  0.957143\n",
              "4                    \"@devontekthomas awww u do too\"            0.975  0.975000"
            ]
          },
          "metadata": {},
          "execution_count": 68
        }
      ]
    },
    {
      "cell_type": "code",
      "metadata": {
        "colab": {
          "base_uri": "https://localhost:8080/",
          "height": 205
        },
        "id": "cDy81ahwCLo8",
        "outputId": "07ea92d0-7195-438e-f525-6a6290a49826"
      },
      "source": [
        "trim_final = trim_col.drop(['African-American'], axis=1)\n",
        "trim_final.head()"
      ],
      "execution_count": 69,
      "outputs": [
        {
          "output_type": "execute_result",
          "data": {
            "text/html": [
              "<div>\n",
              "<style scoped>\n",
              "    .dataframe tbody tr th:only-of-type {\n",
              "        vertical-align: middle;\n",
              "    }\n",
              "\n",
              "    .dataframe tbody tr th {\n",
              "        vertical-align: top;\n",
              "    }\n",
              "\n",
              "    .dataframe thead th {\n",
              "        text-align: right;\n",
              "    }\n",
              "</style>\n",
              "<table border=\"1\" class=\"dataframe\">\n",
              "  <thead>\n",
              "    <tr style=\"text-align: right;\">\n",
              "      <th></th>\n",
              "      <th>text</th>\n",
              "      <th>aa</th>\n",
              "    </tr>\n",
              "  </thead>\n",
              "  <tbody>\n",
              "    <tr>\n",
              "      <th>0</th>\n",
              "      <td>\"Click Clack Motha Fucka I ain't tryin to hear...</td>\n",
              "      <td>0.894545</td>\n",
              "    </tr>\n",
              "    <tr>\n",
              "      <th>1</th>\n",
              "      <td>\"Man imissed a called from my bae hella mad -_...</td>\n",
              "      <td>0.942000</td>\n",
              "    </tr>\n",
              "    <tr>\n",
              "      <th>2</th>\n",
              "      <td>\"@devontekthomas OMG I keep sayin boo wen I me...</td>\n",
              "      <td>0.951111</td>\n",
              "    </tr>\n",
              "    <tr>\n",
              "      <th>3</th>\n",
              "      <td>\"@devontekthomas I did not mean to say dat\"</td>\n",
              "      <td>0.957143</td>\n",
              "    </tr>\n",
              "    <tr>\n",
              "      <th>4</th>\n",
              "      <td>\"@devontekthomas awww u do too\"</td>\n",
              "      <td>0.975000</td>\n",
              "    </tr>\n",
              "  </tbody>\n",
              "</table>\n",
              "</div>"
            ],
            "text/plain": [
              "                                                text        aa\n",
              "0  \"Click Clack Motha Fucka I ain't tryin to hear...  0.894545\n",
              "1  \"Man imissed a called from my bae hella mad -_...  0.942000\n",
              "2  \"@devontekthomas OMG I keep sayin boo wen I me...  0.951111\n",
              "3        \"@devontekthomas I did not mean to say dat\"  0.957143\n",
              "4                    \"@devontekthomas awww u do too\"  0.975000"
            ]
          },
          "metadata": {},
          "execution_count": 69
        }
      ]
    },
    {
      "cell_type": "code",
      "metadata": {
        "id": "9syIlOSiCe1N"
      },
      "source": [
        "trim_final = trim_final[trim_final['aa'] >= .5]"
      ],
      "execution_count": 70,
      "outputs": []
    },
    {
      "cell_type": "code",
      "metadata": {
        "colab": {
          "base_uri": "https://localhost:8080/"
        },
        "id": "Kbo3oGJ2C8VI",
        "outputId": "74521562-f2fd-478c-fc2c-8481c64c7d18"
      },
      "source": [
        "trim_final.info()"
      ],
      "execution_count": 71,
      "outputs": [
        {
          "output_type": "stream",
          "name": "stdout",
          "text": [
            "<class 'pandas.core.frame.DataFrame'>\n",
            "Int64Index: 1143421 entries, 0 to 1149898\n",
            "Data columns (total 2 columns):\n",
            " #   Column  Non-Null Count    Dtype  \n",
            "---  ------  --------------    -----  \n",
            " 0   text    1143421 non-null  object \n",
            " 1   aa      1143421 non-null  float64\n",
            "dtypes: float64(1), object(1)\n",
            "memory usage: 26.2+ MB\n"
          ]
        }
      ]
    },
    {
      "cell_type": "code",
      "metadata": {
        "colab": {
          "base_uri": "https://localhost:8080/",
          "height": 205
        },
        "id": "D8q5IsZPgTP1",
        "outputId": "b354fbc3-ebd2-4c2d-8efa-de6bfb03c6fa"
      },
      "source": [
        "trim_final.head()"
      ],
      "execution_count": 72,
      "outputs": [
        {
          "output_type": "execute_result",
          "data": {
            "text/html": [
              "<div>\n",
              "<style scoped>\n",
              "    .dataframe tbody tr th:only-of-type {\n",
              "        vertical-align: middle;\n",
              "    }\n",
              "\n",
              "    .dataframe tbody tr th {\n",
              "        vertical-align: top;\n",
              "    }\n",
              "\n",
              "    .dataframe thead th {\n",
              "        text-align: right;\n",
              "    }\n",
              "</style>\n",
              "<table border=\"1\" class=\"dataframe\">\n",
              "  <thead>\n",
              "    <tr style=\"text-align: right;\">\n",
              "      <th></th>\n",
              "      <th>text</th>\n",
              "      <th>aa</th>\n",
              "    </tr>\n",
              "  </thead>\n",
              "  <tbody>\n",
              "    <tr>\n",
              "      <th>0</th>\n",
              "      <td>\"Click Clack Motha Fucka I ain't tryin to hear...</td>\n",
              "      <td>0.894545</td>\n",
              "    </tr>\n",
              "    <tr>\n",
              "      <th>1</th>\n",
              "      <td>\"Man imissed a called from my bae hella mad -_...</td>\n",
              "      <td>0.942000</td>\n",
              "    </tr>\n",
              "    <tr>\n",
              "      <th>2</th>\n",
              "      <td>\"@devontekthomas OMG I keep sayin boo wen I me...</td>\n",
              "      <td>0.951111</td>\n",
              "    </tr>\n",
              "    <tr>\n",
              "      <th>3</th>\n",
              "      <td>\"@devontekthomas I did not mean to say dat\"</td>\n",
              "      <td>0.957143</td>\n",
              "    </tr>\n",
              "    <tr>\n",
              "      <th>4</th>\n",
              "      <td>\"@devontekthomas awww u do too\"</td>\n",
              "      <td>0.975000</td>\n",
              "    </tr>\n",
              "  </tbody>\n",
              "</table>\n",
              "</div>"
            ],
            "text/plain": [
              "                                                text        aa\n",
              "0  \"Click Clack Motha Fucka I ain't tryin to hear...  0.894545\n",
              "1  \"Man imissed a called from my bae hella mad -_...  0.942000\n",
              "2  \"@devontekthomas OMG I keep sayin boo wen I me...  0.951111\n",
              "3        \"@devontekthomas I did not mean to say dat\"  0.957143\n",
              "4                    \"@devontekthomas awww u do too\"  0.975000"
            ]
          },
          "metadata": {},
          "execution_count": 72
        }
      ]
    },
    {
      "cell_type": "code",
      "metadata": {
        "colab": {
          "base_uri": "https://localhost:8080/"
        },
        "id": "HFzUpWK-DJsq",
        "outputId": "c7d88b5d-3cec-41a5-9e81-84ac70e05e13"
      },
      "source": [
        "tweets = trim_final['text'].str.strip('\"').drop_duplicates()\n",
        "tweets[:5]"
      ],
      "execution_count": 109,
      "outputs": [
        {
          "output_type": "execute_result",
          "data": {
            "text/plain": [
              "0    Click Clack Motha Fucka I ain't tryin to hear ...\n",
              "1    Man imissed a called from my bae hella mad -_-...\n",
              "2    @devontekthomas OMG I keep sayin boo wen I mea...\n",
              "3            @devontekthomas I did not mean to say dat\n",
              "4                        @devontekthomas awww u do too\n",
              "Name: text, dtype: object"
            ]
          },
          "metadata": {},
          "execution_count": 109
        }
      ]
    },
    {
      "cell_type": "code",
      "metadata": {
        "colab": {
          "base_uri": "https://localhost:8080/"
        },
        "id": "A7j4t7TSgk88",
        "outputId": "7c0e8f0d-692e-4f69-c4e3-2c9a8c36ef06"
      },
      "source": [
        "tweets = tweets.tolist()\n",
        "tweets[:10]"
      ],
      "execution_count": 110,
      "outputs": [
        {
          "output_type": "execute_result",
          "data": {
            "text/plain": [
              "[\"Click Clack Motha Fucka I ain't tryin to hear Nothin!\",\n",
              " 'Man imissed a called from my bae hella mad -_- @callme_KRAZII',\n",
              " '@devontekthomas OMG I keep sayin boo wen I mean boy',\n",
              " '@devontekthomas I did not mean to say dat',\n",
              " '@devontekthomas awww u do too',\n",
              " '@devontekthomas wat r u doin boy',\n",
              " '@ZariaDove I know dats rite',\n",
              " \"I'm trying to get tweeter...\",\n",
              " 'Wth......Kenya......lmbo...........next time pic a different event to prove your point............#RHOA',\n",
              " 'Twrkndathunibun']"
            ]
          },
          "metadata": {},
          "execution_count": 110
        }
      ]
    },
    {
      "cell_type": "code",
      "metadata": {
        "id": "DfjHeKoPeydC"
      },
      "source": [
        "tweets  = [x for x in tweets if not x.startswith('RT')]\n",
        "\n",
        "tweets = [i for i in tweets if not ('http://' in i or 'https://' in i)]"
      ],
      "execution_count": 111,
      "outputs": []
    },
    {
      "cell_type": "code",
      "metadata": {
        "colab": {
          "base_uri": "https://localhost:8080/"
        },
        "id": "9Z9QUgEbe4Xf",
        "outputId": "6a8c9a1c-f795-4274-d1c0-c604af6cdd03"
      },
      "source": [
        "tweets[:5]"
      ],
      "execution_count": 112,
      "outputs": [
        {
          "output_type": "execute_result",
          "data": {
            "text/plain": [
              "[\"Click Clack Motha Fucka I ain't tryin to hear Nothin!\",\n",
              " 'Man imissed a called from my bae hella mad -_- @callme_KRAZII',\n",
              " '@devontekthomas OMG I keep sayin boo wen I mean boy',\n",
              " '@devontekthomas I did not mean to say dat',\n",
              " '@devontekthomas awww u do too']"
            ]
          },
          "metadata": {},
          "execution_count": 112
        }
      ]
    },
    {
      "cell_type": "code",
      "metadata": {
        "colab": {
          "base_uri": "https://localhost:8080/"
        },
        "id": "dV1ebNF2e6tS",
        "outputId": "f8084890-505a-4256-fbbd-11fa60823269"
      },
      "source": [
        "tweets = [re.sub(r\"(?:\\@|https?\\://)\\S+\", \"\", line.lower()) for line in tweets]\n",
        "tweets = [re.sub(\" \\d+\", \"\", line) for line in tweets]\n",
        "\n",
        "tweets[:50]"
      ],
      "execution_count": 113,
      "outputs": [
        {
          "output_type": "execute_result",
          "data": {
            "text/plain": [
              "[\"click clack motha fucka i ain't tryin to hear nothin!\",\n",
              " 'man imissed a called from my bae hella mad -_- ',\n",
              " ' omg i keep sayin boo wen i mean boy',\n",
              " ' i did not mean to say dat',\n",
              " ' awww u do too',\n",
              " ' wat r u doin boy',\n",
              " ' i know dats rite',\n",
              " \"i'm trying to get tweeter...\",\n",
              " 'wth......kenya......lmbo...........next time pic a different event to prove your point............#rhoa',\n",
              " 'twrkndathunibun',\n",
              " 'mm dis is unusual my phone dry af right',\n",
              " ' lol null jus dont wanna have ya hot and bothered',\n",
              " ' seem like it man',\n",
              " 'feel good outside tonight',\n",
              " ' lol nall fool jus a guess',\n",
              " '\\\\\" .* ready to get these tats b4 spring break .!\\\\\"1000',\n",
              " 'if u push da right buttons, she gone dance without da bands lol',\n",
              " \"datum dryer broke so i'm at dis dry cleaner\",\n",
              " 'full af',\n",
              " 'cooling in da hood',\n",
              " ' mm really',\n",
              " ' so but i got dreads tho ;)',\n",
              " ' wat u sorry for fool',\n",
              " ' you gone makee come looking for yo lil ass',\n",
              " 'off work early',\n",
              " ' i see',\n",
              " ' i hear ya',\n",
              " ' and u still lil smh',\n",
              " 'finna fuck with dis weights for a min bbl',\n",
              " ' u went out last night',\n",
              " 'no worries',\n",
              " \" lol ikr but i'm jp fool\",\n",
              " ' no',\n",
              " \"it's hard to find a good woman who can cook nowadays\",\n",
              " ' loving yo avi ma',\n",
              " \"trappin ain't dead, these niggas just scared #1000\",\n",
              " \" damn right don't make me see bout ya\",\n",
              " ' nope i wanna fight punk',\n",
              " ' u know how to get a nigga head fucked up quick lol',\n",
              " ' ain nun to do',\n",
              " 'jus had a good workout',\n",
              " \" nall empty pockets ain't gone get u nun but hard times\",\n",
              " \"fuck da bs, i'm trying to get rich\",\n",
              " 'girl i wanna sex u, til u fall fast asleep',\n",
              " 'wats good world',\n",
              " 'getting ready for dis session',\n",
              " 'in da booth',\n",
              " 'in da booth as we speak',\n",
              " ' you said sum then',\n",
              " \"i'm allergic to fake ppl\"]"
            ]
          },
          "metadata": {},
          "execution_count": 113
        }
      ]
    },
    {
      "cell_type": "code",
      "metadata": {
        "colab": {
          "base_uri": "https://localhost:8080/"
        },
        "id": "aPvbYHkOqUlB",
        "outputId": "6fafc636-c65d-4167-e30c-44d764d2adf3"
      },
      "source": [
        "# tweets = [re.sub(\"[^a-zA-Z0-9]+ \", \"\", line) for line in tweets]\n",
        "# tweets = [''.join(e for e in string if e.isalnum()) for string in tweets]\n",
        "tweets[:50]\n",
        "# tweets = [''.join(e for e in string if e.isalnum()) for string in l_in]"
      ],
      "execution_count": 108,
      "outputs": [
        {
          "output_type": "execute_result",
          "data": {
            "text/plain": [
              "['clickclackmothafuckaiainttryintohearnothin',\n",
              " 'manimissedacalledfrommybaehellamad',\n",
              " 'omgikeepsayinboowenimeanboy',\n",
              " 'ididnotmeantosaydat',\n",
              " 'awwwudotoo',\n",
              " 'watrudoinboy',\n",
              " 'iknowdatsrite',\n",
              " 'imtryingtogettweeter',\n",
              " 'wthkenyalmbonexttimepicadifferenteventtoproveyourpointrhoa',\n",
              " 'twrkndathunibun',\n",
              " 'mmdisisunusualmyphonedryafright',\n",
              " 'lolnulljusdontwannahaveyahotandbothered',\n",
              " 'seemlikeitman',\n",
              " 'feelgoodoutsidetonight',\n",
              " 'lolnallfooljusaguess',\n",
              " 'readytogetthesetatsb4springbreak1000',\n",
              " 'ifupushdarightbuttonsshegonedancewithoutdabandslol',\n",
              " 'datumdryerbrokesoimatdisdrycleaner',\n",
              " 'fullaf',\n",
              " 'coolingindahood',\n",
              " 'mmreally',\n",
              " 'sobutigotdreadstho',\n",
              " 'watusorryforfool',\n",
              " 'yougonemakeecomelookingforyolilass',\n",
              " 'offworkearly',\n",
              " 'isee',\n",
              " 'ihearya',\n",
              " 'andustilllilsmh',\n",
              " 'finnafuckwithdisweightsforaminbbl',\n",
              " 'uwentoutlastnight',\n",
              " 'noworries',\n",
              " 'lolikrbutimjpfool',\n",
              " 'no',\n",
              " 'itshardtofindagoodwomanwhocancooknowadays',\n",
              " 'lovingyoavima',\n",
              " 'trappinaintdeadtheseniggasjustscared1000',\n",
              " 'damnrightdontmakemeseeboutya',\n",
              " 'nopeiwannafightpunk',\n",
              " 'uknowhowtogetaniggaheadfuckedupquicklol',\n",
              " 'ainnuntodo',\n",
              " 'jushadagoodworkout',\n",
              " 'nallemptypocketsaintgonegetununbuthardtimes',\n",
              " 'fuckdabsimtryingtogetrich',\n",
              " 'girliwannasexutilufallfastasleep',\n",
              " 'watsgoodworld',\n",
              " 'gettingreadyfordissession',\n",
              " 'indabooth',\n",
              " 'indaboothaswespeak',\n",
              " 'yousaidsumthen',\n",
              " 'imallergictofakeppl']"
            ]
          },
          "metadata": {},
          "execution_count": 108
        }
      ]
    },
    {
      "cell_type": "markdown",
      "metadata": {
        "id": "ppCjeeFBfZQ2"
      },
      "source": [
        "- Tweet text is converted to lowercase. -- done\n",
        "- All mentions are removed. This includes the mentions --done\n",
        "appearing in a regular tweet and the user handles at the\n",
        "beginning of a retweet, e.g. ``RT: @realTrump’’.\n",
        "\n",
        "- Dates and years, such as ``2017’’, are converted to two\n",
        "symbols representing date and year, respectively.\n",
        "- All ratios, such as ``3/23’’, are replaced by a special\n",
        "symbol.\n",
        "- Integers and decimals are normalized to two special\n",
        "symbols.\n",
        "- All special characters, except hashtags symbol #, are\n",
        "removed."
      ]
    },
    {
      "cell_type": "markdown",
      "metadata": {
        "id": "NaFWNXcMlzWl"
      },
      "source": [
        ""
      ]
    }
  ]
}